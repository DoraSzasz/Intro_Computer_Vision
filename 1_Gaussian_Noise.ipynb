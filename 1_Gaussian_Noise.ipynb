{
 "cells": [
  {
   "cell_type": "code",
   "execution_count": 1,
   "metadata": {},
   "outputs": [],
   "source": [
    "import matplotlib.pyplot as plt\n",
    "import numpy as np\n",
    "import random"
   ]
  },
  {
   "cell_type": "code",
   "execution_count": 2,
   "metadata": {},
   "outputs": [
    {
     "data": {
      "text/plain": [
       "array([[0.09665965, 0.86661544, 0.13866826],\n",
       "       [0.60791821, 0.89005988, 0.74525713],\n",
       "       [0.79706326, 0.14475094, 0.19619571]])"
      ]
     },
     "execution_count": 2,
     "metadata": {},
     "output_type": "execute_result"
    }
   ],
   "source": [
    "np.random.random((3, 3))"
   ]
  },
  {
   "cell_type": "code",
   "execution_count": 6,
   "metadata": {},
   "outputs": [
    {
     "data": {
      "text/plain": [
       "array([[ 2.34366421, -1.0564133 , -1.48271386, -0.74153698, -0.62339151,\n",
       "        -0.09936342, -0.21576393, -1.42161054,  0.77725507, -1.46544442],\n",
       "       [-0.8678578 , -0.30933348, -0.50992126, -1.28200915, -0.27502469,\n",
       "        -0.95953558,  0.54180697, -0.65402639,  0.11325404,  0.18715403],\n",
       "       [-0.5140389 ,  1.14405333, -0.30493236,  0.67349153, -0.28681828,\n",
       "         1.95856131, -0.13402878, -0.08698646,  0.185318  , -0.96343289],\n",
       "       [ 0.79930729, -0.62918993, -0.65361328,  0.53815777, -1.13791172,\n",
       "        -0.44032947,  0.91241191,  0.5649205 , -1.0574594 , -1.13253679],\n",
       "       [ 0.86270341, -1.48290383, -0.42954037,  0.48686286, -1.01785207,\n",
       "         0.37763679, -1.28201132, -0.69016372, -0.56687106,  1.09160184],\n",
       "       [-0.0373783 ,  0.96053476,  1.49990218, -0.7761803 ,  1.35397067,\n",
       "        -0.0977522 ,  0.25353515,  0.03808052, -0.83720996,  2.18310389],\n",
       "       [ 2.12281133, -0.12512812, -0.32111151,  0.07470006,  0.72797704,\n",
       "         0.75111245, -0.30204558, -1.45544882,  0.06120889, -0.14798061],\n",
       "       [ 0.14700982,  2.03353244, -0.00419681, -0.08959804,  0.8263918 ,\n",
       "         0.43799499, -0.79805995,  0.45253966, -1.68145759, -1.88493388],\n",
       "       [-1.52231769,  0.63149319, -0.12695916, -0.44645605,  0.83898399,\n",
       "         0.85252125,  0.27848801,  0.7264839 , -0.18369854, -1.11290452],\n",
       "       [-1.56378872, -0.89280645,  0.13570648,  0.30475182,  0.07183567,\n",
       "        -0.85199592,  0.04940289, -0.62164182,  1.19317867,  0.51396311]])"
      ]
     },
     "execution_count": 6,
     "metadata": {},
     "output_type": "execute_result"
    }
   ],
   "source": [
    "np.random.normal(loc=0, scale=1, size=(10,10))"
   ]
  },
  {
   "cell_type": "code",
   "execution_count": 5,
   "metadata": {},
   "outputs": [],
   "source": [
    "noise=np.random.normal(loc=0, scale=1, size=10000)"
   ]
  },
  {
   "cell_type": "code",
   "execution_count": 7,
   "metadata": {},
   "outputs": [
    {
     "name": "stdout",
     "output_type": "stream",
     "text": [
      "[  14  203 1465 3400 3311 1388  209   10]\n",
      "[-4 -3 -2 -1  0  1  2  3  4]\n"
     ]
    }
   ],
   "source": [
    "hist, bin_edges=np.histogram(noise, bins=[-4, -3, -2, -1, 0, 1, 2, 3, 4])\n",
    "print(hist)\n",
    "print(bin_edges)"
   ]
  },
  {
   "cell_type": "code",
   "execution_count": 8,
   "metadata": {},
   "outputs": [
    {
     "data": {
      "image/png": "[encoded data removed]",
      "text/plain": [
       "<Figure size 432x288 with 1 Axes>"
      ]
     },
     "metadata": {
      "needs_background": "light"
     },
     "output_type": "display_data"
    }
   ],
   "source": [
    "plt.bar(bin_edges[:-1], hist, width = 1)\n",
    "plt.xlim(min(bin_edges), max(bin_edges))\n",
    "plt.show() "
   ]
  },
  {
   "cell_type": "code",
   "execution_count": 9,
   "metadata": {},
   "outputs": [
    {
     "name": "stdout",
     "output_type": "stream",
     "text": [
      "[  3   4   2   6   8   6   9  16   1  12  13  16  14  23  22  27  35  38\n",
      "  41  54  63  70  69  80  92  83 110 102 140 107 126 129 147 139 166 170\n",
      " 192 178 191 197 202 224 225 239 237 230 235 234 225 229 226 243 234 226\n",
      " 211 245 219 211 190 178 187 187 173 152 157 159 139 135 139 120 103  83\n",
      " 111  97  72  83  57  50  53  66  38  30  21  32  31  19  21  20  15   7\n",
      "  13  12   5   6   5   6   5   1   2]\n",
      "[-3.         -2.93939394 -2.87878788 -2.81818182 -2.75757576 -2.6969697\n",
      " -2.63636364 -2.57575758 -2.51515152 -2.45454545 -2.39393939 -2.33333333\n",
      " -2.27272727 -2.21212121 -2.15151515 -2.09090909 -2.03030303 -1.96969697\n",
      " -1.90909091 -1.84848485 -1.78787879 -1.72727273 -1.66666667 -1.60606061\n",
      " -1.54545455 -1.48484848 -1.42424242 -1.36363636 -1.3030303  -1.24242424\n",
      " -1.18181818 -1.12121212 -1.06060606 -1.         -0.93939394 -0.87878788\n",
      " -0.81818182 -0.75757576 -0.6969697  -0.63636364 -0.57575758 -0.51515152\n",
      " -0.45454545 -0.39393939 -0.33333333 -0.27272727 -0.21212121 -0.15151515\n",
      " -0.09090909 -0.03030303  0.03030303  0.09090909  0.15151515  0.21212121\n",
      "  0.27272727  0.33333333  0.39393939  0.45454545  0.51515152  0.57575758\n",
      "  0.63636364  0.6969697   0.75757576  0.81818182  0.87878788  0.93939394\n",
      "  1.          1.06060606  1.12121212  1.18181818  1.24242424  1.3030303\n",
      "  1.36363636  1.42424242  1.48484848  1.54545455  1.60606061  1.66666667\n",
      "  1.72727273  1.78787879  1.84848485  1.90909091  1.96969697  2.03030303\n",
      "  2.09090909  2.15151515  2.21212121  2.27272727  2.33333333  2.39393939\n",
      "  2.45454545  2.51515152  2.57575758  2.63636364  2.6969697   2.75757576\n",
      "  2.81818182  2.87878788  2.93939394  3.        ]\n"
     ]
    }
   ],
   "source": [
    "bins=np.linspace(-3,3,100)\n",
    "\n",
    "hist, bin_edges=np.histogram(noise, bins)\n",
    "print(hist)\n",
    "print(bin_edges)"
   ]
  },
  {
   "cell_type": "code",
   "execution_count": 10,
   "metadata": {},
   "outputs": [
    {
     "data": {
      "image/png": "[encoded data removed]",
      "text/plain": [
       "<Figure size 432x288 with 1 Axes>"
      ]
     },
     "metadata": {
      "needs_background": "light"
     },
     "output_type": "display_data"
    }
   ],
   "source": [
    "plt.bar(bin_edges[:-1], hist, width = 1)\n",
    "plt.xlim(min(bin_edges), max(bin_edges))\n",
    "plt.show() "
   ]
  },
  {
   "cell_type": "code",
   "execution_count": null,
   "metadata": {},
   "outputs": [],
   "source": []
  },
  {
   "cell_type": "code",
   "execution_count": null,
   "metadata": {},
   "outputs": [],
   "source": []
  }
 ],
 "metadata": {
  "kernelspec": {
   "display_name": "Python 3",
   "language": "python",
   "name": "python3"
  },
  "language_info": {
   "codemirror_mode": {
    "name": "ipython",
    "version": 3
   },
   "file_extension": ".py",
   "mimetype": "text/x-python",
   "name": "python",
   "nbconvert_exporter": "python",
   "pygments_lexer": "ipython3",
   "version": "3.6.5"
  }
 },
 "nbformat": 4,
 "nbformat_minor": 2
}
