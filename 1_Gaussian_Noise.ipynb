{
 "cells": [
  {
   "cell_type": "code",
   "execution_count": 90,
   "metadata": {},
   "outputs": [],
   "source": [
    "import matplotlib.pyplot as plt\n",
    "import numpy as np\n",
    "import random"
   ]
  },
  {
   "cell_type": "code",
   "execution_count": 91,
   "metadata": {},
   "outputs": [
    {
     "data": {
      "text/plain": [
       "array([[0.64681121, 0.08899201, 0.5958028 ],\n",
       "       [0.81147962, 0.97623058, 0.49107451],\n",
       "       [0.62989361, 0.42443954, 0.95286122]])"
      ]
     },
     "execution_count": 91,
     "metadata": {},
     "output_type": "execute_result"
    }
   ],
   "source": [
    "np.random.random((3, 3))"
   ]
  },
  {
   "cell_type": "code",
   "execution_count": 93,
   "metadata": {},
   "outputs": [
    {
     "data": {
      "text/plain": [
       "array([[-0.89755835,  0.16213858,  0.90207152,  0.11642965,  0.76682339,\n",
       "         0.08232798,  0.50264859, -0.09631406, -0.94233744,  0.51212907],\n",
       "       [-1.1171383 , -0.23404022, -1.77253463,  0.54829055, -2.43962403,\n",
       "        -2.82092561, -0.55017031,  0.35646454, -0.19262477,  0.82110461],\n",
       "       [ 0.16323457, -1.35640292, -0.10409185,  0.18359682,  0.10844746,\n",
       "         0.12510907,  1.17450958, -0.93016321,  0.62160015, -0.33566053],\n",
       "       [ 0.29481277,  0.51218464,  0.79148149,  0.17905693,  1.21957955,\n",
       "        -0.59076701,  0.17927976, -1.97943024, -1.9442332 ,  0.47337426],\n",
       "       [ 0.35721529,  1.12738405,  2.06904748, -0.17774801, -0.59866904,\n",
       "         1.09447541,  0.07008963,  0.36743782,  1.95050528,  0.52485861],\n",
       "       [ 0.72246961,  0.29416237, -0.78847629,  1.91187326, -0.40041557,\n",
       "         0.83246766, -0.01893989,  2.11403677, -0.62141978, -1.36965489],\n",
       "       [ 0.86220807,  0.00560358,  0.71601784, -0.29949426, -0.08626726,\n",
       "        -0.15588242,  0.52149294, -0.74635169,  0.44768234, -0.36039751],\n",
       "       [ 2.23151098, -0.38171053, -0.29391018, -0.37563169, -0.05882703,\n",
       "         0.36766105,  0.36740065,  0.27381007, -0.5869817 ,  0.82409417],\n",
       "       [-0.6411837 ,  1.37754418,  0.18064629,  1.09125909, -2.43548823,\n",
       "        -0.07379421,  0.84011404,  0.63777825,  1.45174715, -1.46765984],\n",
       "       [-1.09805879,  1.56294336,  0.5259828 ,  0.72704649,  0.58942197,\n",
       "         1.55221329,  0.77333532, -0.72517139,  2.07619302, -0.65788277]])"
      ]
     },
     "execution_count": 93,
     "metadata": {},
     "output_type": "execute_result"
    }
   ],
   "source": [
    "np.random.normal(loc=0, scale=1, size=(10,10))"
   ]
  },
  {
   "cell_type": "code",
   "execution_count": 128,
   "metadata": {},
   "outputs": [],
   "source": [
    "noise=np.random.normal(loc=0, scale=1, size=10000)"
   ]
  },
  {
   "cell_type": "code",
   "execution_count": 129,
   "metadata": {},
   "outputs": [
    {
     "name": "stdout",
     "output_type": "stream",
     "text": [
      "[  13  206 1363 3358 3419 1402  230    8]\n",
      "[-4 -3 -2 -1  0  1  2  3  4]\n"
     ]
    }
   ],
   "source": [
    "hist, bin_edges=np.histogram(noise, bins=[-4, -3, -2, -1, 0, 1, 2, 3, 4])\n",
    "print(hist)\n",
    "print(bin_edges)"
   ]
  },
  {
   "cell_type": "code",
   "execution_count": 130,
   "metadata": {},
   "outputs": [
    {
     "data": {
      "image/png": "[encoded data removed]",
      "text/plain": [
       "<Figure size 432x288 with 1 Axes>"
      ]
     },
     "metadata": {},
     "output_type": "display_data"
    }
   ],
   "source": [
    "plt.bar(bin_edges[:-1], hist, width = 1)\n",
    "plt.xlim(min(bin_edges), max(bin_edges))\n",
    "plt.show() "
   ]
  },
  {
   "cell_type": "code",
   "execution_count": 131,
   "metadata": {},
   "outputs": [
    {
     "name": "stdout",
     "output_type": "stream",
     "text": [
      "[  1   3   5   5   5   4   8   7  15  14  12  19  17  17  23  31  44  44\n",
      "  32  44  55  67  57  69  86  93  88  94 105 125 126 134 120 151 168 155\n",
      " 180 169 172 205 180 236 216 242 233 223 234 236 227 237 239 257 228 239\n",
      " 238 228 196 191 250 203 193 185 179 175 155 157 125 139 113 129 104 124\n",
      "  81  98  91  54  66  79  49  45  47  47  21  29  25  24  15  14  17  25\n",
      "  17   9  14   6   6   6   5   3   5]\n",
      "[-3.         -2.93939394 -2.87878788 -2.81818182 -2.75757576 -2.6969697\n",
      " -2.63636364 -2.57575758 -2.51515152 -2.45454545 -2.39393939 -2.33333333\n",
      " -2.27272727 -2.21212121 -2.15151515 -2.09090909 -2.03030303 -1.96969697\n",
      " -1.90909091 -1.84848485 -1.78787879 -1.72727273 -1.66666667 -1.60606061\n",
      " -1.54545455 -1.48484848 -1.42424242 -1.36363636 -1.3030303  -1.24242424\n",
      " -1.18181818 -1.12121212 -1.06060606 -1.         -0.93939394 -0.87878788\n",
      " -0.81818182 -0.75757576 -0.6969697  -0.63636364 -0.57575758 -0.51515152\n",
      " -0.45454545 -0.39393939 -0.33333333 -0.27272727 -0.21212121 -0.15151515\n",
      " -0.09090909 -0.03030303  0.03030303  0.09090909  0.15151515  0.21212121\n",
      "  0.27272727  0.33333333  0.39393939  0.45454545  0.51515152  0.57575758\n",
      "  0.63636364  0.6969697   0.75757576  0.81818182  0.87878788  0.93939394\n",
      "  1.          1.06060606  1.12121212  1.18181818  1.24242424  1.3030303\n",
      "  1.36363636  1.42424242  1.48484848  1.54545455  1.60606061  1.66666667\n",
      "  1.72727273  1.78787879  1.84848485  1.90909091  1.96969697  2.03030303\n",
      "  2.09090909  2.15151515  2.21212121  2.27272727  2.33333333  2.39393939\n",
      "  2.45454545  2.51515152  2.57575758  2.63636364  2.6969697   2.75757576\n",
      "  2.81818182  2.87878788  2.93939394  3.        ]\n"
     ]
    }
   ],
   "source": [
    "bins=np.linspace(-3,3,100)\n",
    "\n",
    "hist, bin_edges=np.histogram(noise, bins)\n",
    "print(hist)\n",
    "print(bin_edges)"
   ]
  },
  {
   "cell_type": "code",
   "execution_count": 132,
   "metadata": {},
   "outputs": [
    {
     "data": {
      "image/png": "[encoded data removed]",
      "text/plain": [
       "<Figure size 432x288 with 1 Axes>"
      ]
     },
     "metadata": {},
     "output_type": "display_data"
    }
   ],
   "source": [
    "plt.bar(bin_edges[:-1], hist, width = 1)\n",
    "plt.xlim(min(bin_edges), max(bin_edges))\n",
    "plt.show() "
   ]
  },
  {
   "cell_type": "code",
   "execution_count": null,
   "metadata": {},
   "outputs": [],
   "source": []
  },
  {
   "cell_type": "code",
   "execution_count": null,
   "metadata": {},
   "outputs": [],
   "source": []
  }
 ],
 "metadata": {
  "kernelspec": {
   "display_name": "Python 3",
   "language": "python",
   "name": "python3"
  },
  "language_info": {
   "codemirror_mode": {
    "name": "ipython",
    "version": 3
   },
   "file_extension": ".py",
   "mimetype": "text/x-python",
   "name": "python",
   "nbconvert_exporter": "python",
   "pygments_lexer": "ipython3",
   "version": "3.6.5"
  }
 },
 "nbformat": 4,
 "nbformat_minor": 2
}
